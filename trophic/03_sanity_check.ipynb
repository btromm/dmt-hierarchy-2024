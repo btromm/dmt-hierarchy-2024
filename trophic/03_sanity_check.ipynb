{
 "cells": [
  {
   "attachments": {},
   "cell_type": "markdown",
   "metadata": {},
   "source": [
    "# Identify Connected Components\n",
    "## Bobby Tromm | 17/10/23\n",
    "### bobby.tromm@gmail.com\n",
    "Uses `networkx` to identify (strong/weakly) connected components in a (directed) graph. This is necessary for the application of trophic coherence.\n",
    "If your network returns more than 1 connected component, you'll have issues (might not be possible/valid) running trohpic coherence on it.\n",
    "\n",
    "To bring MATLAB matrices into Python, use the following:\n",
    "`save('matrixA.mat', 'A');`\n"
   ]
  },
  {
   "cell_type": "code",
   "execution_count": null,
   "metadata": {},
   "outputs": [],
   "source": [
    "# Load libraries\n",
    "import networkx as nx\n",
    "import numpy as np\n",
    "import scipy.io\n",
    "import matplotlib.pyplot as plt"
   ]
  },
  {
   "cell_type": "code",
   "execution_count": 35,
   "metadata": {},
   "outputs": [
    {
     "name": "stdout",
     "output_type": "stream",
     "text": [
      "[1, 1, 1, 1, 1, 1, 1, 1, 1, 1, 1, 1, 1, 1, 1, 1, 1]\n"
     ]
    }
   ],
   "source": [
    "Ceff = scipy.io.loadmat('/Users/myco/human_brains/dmt/CeffPCB.mat') # load mat\n",
    "CeffPCB=Ceff['CeffPCB_Post'] # get matrix from mat by name of variable in MATLAB\n",
    "CeffPCB[CeffPCB<0.015]=0\n",
    "\n",
    "matrix_length = len(CeffPCB)\n",
    "\n",
    "num_weakly_connected_components = []\n",
    "for subject in range(matrix_length):\n",
    "    subj = CeffPCB[subject,:,:]\n",
    "    G = nx.DiGraph(subj)\n",
    "    num_weakly_connected_components.append(nx.number_weakly_connected_components(G))\n",
    "print(num_weakly_connected_components)\n",
    "\n"
   ]
  }
 ],
 "metadata": {
  "kernelspec": {
   "display_name": "base",
   "language": "python",
   "name": "python3"
  },
  "language_info": {
   "codemirror_mode": {
    "name": "ipython",
    "version": 3
   },
   "file_extension": ".py",
   "mimetype": "text/x-python",
   "name": "python",
   "nbconvert_exporter": "python",
   "pygments_lexer": "ipython3",
   "version": "3.11.4"
  }
 },
 "nbformat": 4,
 "nbformat_minor": 2
}
